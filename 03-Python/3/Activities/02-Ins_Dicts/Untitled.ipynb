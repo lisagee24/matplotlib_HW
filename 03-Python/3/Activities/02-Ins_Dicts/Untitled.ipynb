{
 "cells": [
  {
   "cell_type": "code",
   "execution_count": 2,
   "metadata": {},
   "outputs": [],
   "source": [
    "# A list of actors\n",
    "actors = [\"Tom Cruise\",\n",
    "          \"Angelina Jolie\",\n",
    "          \"Kristen Stewart\",\n",
    "          \"Denzel Washington\"]"
   ]
  },
  {
   "cell_type": "code",
   "execution_count": 3,
   "metadata": {},
   "outputs": [
    {
     "data": {
      "text/plain": [
       "['Tom Cruise', 'Angelina Jolie', 'Kristen Stewart', 'Denzel Washington']"
      ]
     },
     "execution_count": 3,
     "metadata": {},
     "output_type": "execute_result"
    }
   ],
   "source": [
    "actors"
   ]
  },
  {
   "cell_type": "code",
   "execution_count": 4,
   "metadata": {},
   "outputs": [],
   "source": [
    "actor = {\"name\": \"Tom Cruise\",\"age\": \"107\",\"Height\":\"3ft 7inch\"}"
   ]
  },
  {
   "cell_type": "code",
   "execution_count": 5,
   "metadata": {},
   "outputs": [
    {
     "name": "stdout",
     "output_type": "stream",
     "text": [
      "3ft 7inch\n"
     ]
    }
   ],
   "source": [
    "print(actor[\"Height\"])"
   ]
  },
  {
   "cell_type": "code",
   "execution_count": 6,
   "metadata": {},
   "outputs": [],
   "source": [
    "actress = {\"name\": \"Angelina Jolie\", \"genre\": \"Action\", \"nationality\": \"United States\"}"
   ]
  },
  {
   "cell_type": "code",
   "execution_count": 7,
   "metadata": {},
   "outputs": [
    {
     "data": {
      "text/plain": [
       "'Action'"
      ]
     },
     "execution_count": 7,
     "metadata": {},
     "output_type": "execute_result"
    }
   ],
   "source": [
    "actress[\"genre\"]"
   ]
  },
  {
   "cell_type": "code",
   "execution_count": null,
   "metadata": {},
   "outputs": [],
   "source": [
    "aa = {\n",
    "    \"name\": \"Sylvester Stallone\",\n",
    "    \"age\": 620,\n",
    "    \"married\":\"True\",\n",
    "    \"best movies\": [\n",
    "        \"Rocky\",\n",
    "        \"Rocky 2\",\n",
    "        \"Rocky 3\"]\n",
    "}"
   ]
  }
 ],
 "metadata": {
  "kernelspec": {
   "display_name": "Python 3",
   "language": "python",
   "name": "python3"
  },
  "language_info": {
   "codemirror_mode": {
    "name": "ipython",
    "version": 3
   },
   "file_extension": ".py",
   "mimetype": "text/x-python",
   "name": "python",
   "nbconvert_exporter": "python",
   "pygments_lexer": "ipython3",
   "version": "3.7.1"
  }
 },
 "nbformat": 4,
 "nbformat_minor": 2
}
