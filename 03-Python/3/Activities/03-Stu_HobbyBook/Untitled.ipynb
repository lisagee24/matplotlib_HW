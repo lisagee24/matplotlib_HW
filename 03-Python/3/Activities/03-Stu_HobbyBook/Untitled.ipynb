{
 "cells": [
  {
   "cell_type": "code",
   "execution_count": 8,
   "metadata": {},
   "outputs": [],
   "source": [
    "mydictionary = {\"Name\": \"Lisa\", \"Age\": \"200\", \"Hobbies\":(\"Walking\", \"Reading\"),\n",
    "             \"Wake-up\": {\"4:00AM\", \"5:00AM\", \"6:00AM\"}}"
   ]
  },
  {
   "cell_type": "code",
   "execution_count": 6,
   "metadata": {},
   "outputs": [
    {
     "data": {
      "text/plain": [
       "{'Name': 'Greg',\n",
       " 'Age': '200',\n",
       " 'Hobbies': ('Walking', 'Reading'),\n",
       " 'Wake-up': {'4:00AM', '5:00AM', '6:00AM'}}"
      ]
     },
     "execution_count": 6,
     "metadata": {},
     "output_type": "execute_result"
    }
   ],
   "source": [
    "mydictionary"
   ]
  },
  {
   "cell_type": "code",
   "execution_count": 9,
   "metadata": {},
   "outputs": [
    {
     "data": {
      "text/plain": [
       "{'Name': 'Lisa',\n",
       " 'Age': '200',\n",
       " 'Hobbies': ('Walking', 'Reading'),\n",
       " 'Wake-up': {'4:00AM', '5:00AM', '6:00AM'}}"
      ]
     },
     "execution_count": 9,
     "metadata": {},
     "output_type": "execute_result"
    }
   ],
   "source": [
    "mydictionary\n"
   ]
  },
  {
   "cell_type": "code",
   "execution_count": null,
   "metadata": {},
   "outputs": [],
   "source": []
  }
 ],
 "metadata": {
  "kernelspec": {
   "display_name": "Python 3",
   "language": "python",
   "name": "python3"
  },
  "language_info": {
   "codemirror_mode": {
    "name": "ipython",
    "version": 3
   },
   "file_extension": ".py",
   "mimetype": "text/x-python",
   "name": "python",
   "nbconvert_exporter": "python",
   "pygments_lexer": "ipython3",
   "version": "3.7.1"
  }
 },
 "nbformat": 4,
 "nbformat_minor": 2
}
