{
 "cells": [
  {
   "cell_type": "code",
   "execution_count": 4,
   "metadata": {},
   "outputs": [
    {
     "name": "stdout",
     "output_type": "stream",
     "text": [
      "Please enter the name of someone you know. Lisa \n",
      "Please enter the name of someone you know. India\n",
      "Please enter the name of someone you know. KENan\n",
      "Please enter the name of someone you know. Sekou\n",
      "Please enter the name of someone you know. Patricia\n",
      "Dear YOUR CODE HERE!, please come to the wedding this Saturday!\n"
     ]
    }
   ],
   "source": [
    "names = []\n",
    "for _ in range(5):\n",
    "    name = input(\"Please enter the name of someone you know. \")\n",
    "    names.append(name)\n",
    "\n",
    "# @TODO: Use a list comprehension to create a list of lowercased names\n",
    "lowercased = [\"YOUR CODE HERE!\"]\n",
    "\n",
    "# @TODO: Use a list comprehension to create a list of titlecased names\n",
    "# https://www.tutorialspoint.com/python/string_title.htm\n",
    "titlecased = [\"YOUR CODE HERE!\"]\n",
    "\n",
    "invitations = [\n",
    "    f\"Dear {name}, please come to the wedding this Saturday!\" for name in titlecased]\n",
    "\n",
    "for invitation in invitations:\n",
    "    print(invitation)\n"
   ]
  },
  {
   "cell_type": "code",
   "execution_count": 2,
   "metadata": {},
   "outputs": [],
   "source": [
    "lowercased = [name.lower() for name in names]"
   ]
  },
  {
   "cell_type": "code",
   "execution_count": 3,
   "metadata": {},
   "outputs": [
    {
     "data": {
      "text/plain": [
       "['India', 'Kenan', 'Patricia', 'Kaylyn', 'Alfred']"
      ]
     },
     "execution_count": 3,
     "metadata": {},
     "output_type": "execute_result"
    }
   ],
   "source": [
    "names\n"
   ]
  },
  {
   "cell_type": "code",
   "execution_count": null,
   "metadata": {},
   "outputs": [],
   "source": []
  }
 ],
 "metadata": {
  "kernelspec": {
   "display_name": "Python 3",
   "language": "python",
   "name": "python3"
  },
  "language_info": {
   "codemirror_mode": {
    "name": "ipython",
    "version": 3
   },
   "file_extension": ".py",
   "mimetype": "text/x-python",
   "name": "python",
   "nbconvert_exporter": "python",
   "pygments_lexer": "ipython3",
   "version": "3.7.2"
  }
 },
 "nbformat": 4,
 "nbformat_minor": 2
}
